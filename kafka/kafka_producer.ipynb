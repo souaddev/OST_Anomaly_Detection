{
 "cells": [
  {
   "cell_type": "code",
   "execution_count": null,
   "id": "0d0db55c",
   "metadata": {},
   "outputs": [],
   "source": [
    "from kafka import KafkaConsumer, KafkaProducer\n",
    "\n",
    "import json\n",
    "\n",
    "from json import loads\n",
    "\n",
    "from csv import DictReader\n",
    "\n",
    "import time\n",
    "\n",
    "from kafka.errors import NoBrokersAvailable\n",
    "\n",
    "\n",
    "def is_kafka_broker_up(bootstrap_servers):\n",
    "    try:\n",
    "        # Try to create a temporary Kafka producer with a short timeout\n",
    "        temp_producer = KafkaProducer(bootstrap_servers=bootstrap_servers, request_timeout_ms=500)\n",
    "        temp_producer.close()\n",
    "        return True\n",
    "    except NoBrokersAvailable:\n",
    "        return False\n",
    "\n",
    "def kafka_producer():\n",
    "    # Set up for Kafka Producer\n",
    "    bootstrap_servers = ['localhost:9092']\n",
    "    topicname = 'swat'\n",
    "\n",
    "    # Check if Kafka broker is up before attempting to create the producer\n",
    "    while not is_kafka_broker_up(bootstrap_servers):\n",
    "        print(\"Kafka broker is not up. Waiting for 30 seconds...\")\n",
    "        time.sleep(30)\n",
    "\n",
    "    producer = KafkaProducer(bootstrap_servers=bootstrap_servers)\n",
    "\n",
    "    with open('./dataset/test_data.csv', 'r') as new_obj:\n",
    "        csv_dict_reader = DictReader(new_obj)\n",
    "        index = 0\n",
    "\n",
    "        for row in csv_dict_reader:\n",
    "            producer.send(topicname, json.dumps(row).encode('utf-8'))\n",
    "            print(\"Data sent successfully\")\n",
    "\n",
    "            index += 1\n",
    "            if (index % 20) == 0:\n",
    "                time.sleep(10)\n",
    "\n",
    "\n",
    "kafka_producer()"
   ]
  }
 ],
 "metadata": {
  "kernelspec": {
   "display_name": "Python 3.10.13 64-bit",
   "language": "python",
   "name": "python3"
  },
  "language_info": {
   "codemirror_mode": {
    "name": "ipython",
    "version": 3
   },
   "file_extension": ".py",
   "mimetype": "text/x-python",
   "name": "python",
   "nbconvert_exporter": "python",
   "pygments_lexer": "ipython3",
   "version": "3.10.13"
  },
  "vscode": {
   "interpreter": {
    "hash": "bd385fe162c5ca0c84973b7dd5c518456272446b2b64e67c2a69f949ca7a1754"
   }
  }
 },
 "nbformat": 4,
 "nbformat_minor": 5
}
